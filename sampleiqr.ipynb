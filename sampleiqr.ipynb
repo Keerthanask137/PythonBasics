{
 "cells": [
  {
   "cell_type": "code",
   "execution_count": 2,
   "id": "b0839bc0-41a2-4029-ac64-31d56b461153",
   "metadata": {},
   "outputs": [],
   "source": [
    "import pandas as pd"
   ]
  },
  {
   "cell_type": "code",
   "execution_count": 3,
   "id": "ab4b3a39-6ff2-4c8a-9180-b90371720da8",
   "metadata": {},
   "outputs": [],
   "source": [
    "data = [10, 12, 15, 14, 18, 20, 22, 24, 30, 100]  # notice the outlier (100)\n",
    "df = pd.DataFrame(data, columns=[\"Value\"])"
   ]
  },
  {
   "cell_type": "code",
   "execution_count": 7,
   "id": "1913e688-185c-442a-923c-0f1f0b955983",
   "metadata": {},
   "outputs": [
    {
     "data": {
      "text/html": [
       "<div>\n",
       "<style scoped>\n",
       "    .dataframe tbody tr th:only-of-type {\n",
       "        vertical-align: middle;\n",
       "    }\n",
       "\n",
       "    .dataframe tbody tr th {\n",
       "        vertical-align: top;\n",
       "    }\n",
       "\n",
       "    .dataframe thead th {\n",
       "        text-align: right;\n",
       "    }\n",
       "</style>\n",
       "<table border=\"1\" class=\"dataframe\">\n",
       "  <thead>\n",
       "    <tr style=\"text-align: right;\">\n",
       "      <th></th>\n",
       "      <th>Value</th>\n",
       "    </tr>\n",
       "  </thead>\n",
       "  <tbody>\n",
       "    <tr>\n",
       "      <th>0</th>\n",
       "      <td>10</td>\n",
       "    </tr>\n",
       "    <tr>\n",
       "      <th>1</th>\n",
       "      <td>12</td>\n",
       "    </tr>\n",
       "    <tr>\n",
       "      <th>2</th>\n",
       "      <td>15</td>\n",
       "    </tr>\n",
       "    <tr>\n",
       "      <th>3</th>\n",
       "      <td>14</td>\n",
       "    </tr>\n",
       "    <tr>\n",
       "      <th>4</th>\n",
       "      <td>18</td>\n",
       "    </tr>\n",
       "  </tbody>\n",
       "</table>\n",
       "</div>"
      ],
      "text/plain": [
       "   Value\n",
       "0     10\n",
       "1     12\n",
       "2     15\n",
       "3     14\n",
       "4     18"
      ]
     },
     "execution_count": 7,
     "metadata": {},
     "output_type": "execute_result"
    }
   ],
   "source": [
    "df.head()"
   ]
  },
  {
   "cell_type": "code",
   "execution_count": 4,
   "id": "16d178f2-c0ac-4210-9802-788ef1abde5c",
   "metadata": {},
   "outputs": [],
   "source": [
    "Q1 = df[\"Value\"].quantile(0.25)\n",
    "Q3 = df[\"Value\"].quantile(0.75)\n",
    "IQR = Q3 - Q1"
   ]
  },
  {
   "cell_type": "code",
   "execution_count": 5,
   "id": "43004d62-89da-44c3-a270-d33821dff8ad",
   "metadata": {},
   "outputs": [],
   "source": [
    "# Outlier thresholds\n",
    "lower_bound = Q1 - 1.5 * IQR\n",
    "upper_bound = Q3 + 1.5 * IQR\n"
   ]
  },
  {
   "cell_type": "code",
   "execution_count": 6,
   "id": "8fb4953e-9f20-455a-ac36-24c70533d9cf",
   "metadata": {},
   "outputs": [
    {
     "name": "stdout",
     "output_type": "stream",
     "text": [
      "Q1: 14.25\n",
      "Q3: 23.5\n",
      "IQR: 9.25\n",
      "Outlier lower bound: 0.375\n",
      "Outlier upper bound: 37.375\n",
      "Outliers:\n",
      "    Value\n",
      "9    100\n"
     ]
    }
   ],
   "source": [
    "print(\"Q1:\", Q1)\n",
    "print(\"Q3:\", Q3)\n",
    "print(\"IQR:\", IQR)\n",
    "print(\"Outlier lower bound:\", lower_bound)\n",
    "print(\"Outlier upper bound:\", upper_bound)\n",
    "\n",
    "# Identify outliers\n",
    "outliers = df[(df[\"Value\"] < lower_bound) | (df[\"Value\"] > upper_bound)]\n",
    "print(\"Outliers:\\n\", outliers)"
   ]
  },
  {
   "cell_type": "code",
   "execution_count": null,
   "id": "b225dc5f-7da3-4799-84ad-9f3abc28e687",
   "metadata": {},
   "outputs": [],
   "source": []
  }
 ],
 "metadata": {
  "kernelspec": {
   "display_name": "Python 3 (ipykernel)",
   "language": "python",
   "name": "python3"
  },
  "language_info": {
   "codemirror_mode": {
    "name": "ipython",
    "version": 3
   },
   "file_extension": ".py",
   "mimetype": "text/x-python",
   "name": "python",
   "nbconvert_exporter": "python",
   "pygments_lexer": "ipython3",
   "version": "3.11.7"
  }
 },
 "nbformat": 4,
 "nbformat_minor": 5
}
