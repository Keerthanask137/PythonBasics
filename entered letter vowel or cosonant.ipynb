{
 "cells": [
  {
   "cell_type": "code",
   "execution_count": 9,
   "id": "49dbe2b4-fee9-4873-9048-b62581bf8fab",
   "metadata": {},
   "outputs": [
    {
     "name": "stdin",
     "output_type": "stream",
     "text": [
      "enter any character 34\n"
     ]
    },
    {
     "name": "stdout",
     "output_type": "stream",
     "text": [
      "entered character is not alphabet\n"
     ]
    }
   ],
   "source": [
    "c=input(\"enter any character\")\n",
    "c=c.lower()\n",
    "if (c==\"a\"or c==\"e\" or c==\"i\" or c==\"o\" or c==\"u\"):\n",
    "    print(\"character is vowel\")\n",
    "\n",
    "elif c.isalpha():\n",
    "    print(\"character is consonant\")\n",
    "else:\n",
    "    print(\"entered character is not alphabet\")\n",
    "    "
   ]
  },
  {
   "cell_type": "code",
   "execution_count": 10,
   "id": "7f9accff-34ec-4d4b-af3d-e69652179cfe",
   "metadata": {},
   "outputs": [
    {
     "name": "stdin",
     "output_type": "stream",
     "text": [
      "enter any character G\n"
     ]
    },
    {
     "name": "stdout",
     "output_type": "stream",
     "text": [
      "character is consonant\n"
     ]
    }
   ],
   "source": [
    "c=input(\"enter any character\")\n",
    "c=c.lower()\n",
    "if c in \"aeiou\":\n",
    "    print(\"character is vowel\")\n",
    "\n",
    "elif c.isalpha():\n",
    "    print(\"character is consonant\")\n",
    "else:\n",
    "    print(\"entered character is not alphabet\")\n",
    "    \n"
   ]
  },
  {
   "cell_type": "code",
   "execution_count": 11,
   "id": "375aa073-dccd-4cb0-befb-6baad5b8f94a",
   "metadata": {},
   "outputs": [
    {
     "name": "stdin",
     "output_type": "stream",
     "text": [
      "Enter a character:  y\n"
     ]
    },
    {
     "name": "stdout",
     "output_type": "stream",
     "text": [
      "The character is a Consonant.\n"
     ]
    }
   ],
   "source": [
    "def check_vowel_consonant(char):\n",
    "    \n",
    "    char = char.lower()\n",
    "    if char in 'aeiou':\n",
    "        return \"Vowel\"\n",
    "    elif char.isalpha():  \n",
    "        return \"Consonant\"\n",
    "    else:\n",
    "        return \"Not an alphabet\"\n",
    "\n",
    "\n",
    "char = input(\"Enter a character: \")\n",
    "\n",
    "result = check_vowel_consonant(char)\n",
    "print(f\"The character is a {result}.\")"
   ]
  },
  {
   "cell_type": "code",
   "execution_count": null,
   "id": "478b2d3f-7603-4eb6-ad74-af7420c3d60c",
   "metadata": {},
   "outputs": [],
   "source": []
  }
 ],
 "metadata": {
  "kernelspec": {
   "display_name": "Python 3 (ipykernel)",
   "language": "python",
   "name": "python3"
  },
  "language_info": {
   "codemirror_mode": {
    "name": "ipython",
    "version": 3
   },
   "file_extension": ".py",
   "mimetype": "text/x-python",
   "name": "python",
   "nbconvert_exporter": "python",
   "pygments_lexer": "ipython3",
   "version": "3.11.7"
  }
 },
 "nbformat": 4,
 "nbformat_minor": 5
}
