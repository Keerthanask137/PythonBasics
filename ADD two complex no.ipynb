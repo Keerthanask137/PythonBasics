{
 "cells": [
  {
   "cell_type": "code",
   "execution_count": 2,
   "id": "518d4212-75ac-497b-8bc3-44f0b5c00601",
   "metadata": {},
   "outputs": [
    {
     "name": "stdout",
     "output_type": "stream",
     "text": [
      "sum : (6+7j)\n"
     ]
    }
   ],
   "source": [
    "a=2+3j\n",
    "b=4+4j\n",
    "x=a+b\n",
    "print(\"sum :\" ,x)"
   ]
  },
  {
   "cell_type": "code",
   "execution_count": 3,
   "id": "dd288cb5-4d9c-45f4-aae3-18cdc6c53fdd",
   "metadata": {},
   "outputs": [
    {
     "name": "stdin",
     "output_type": "stream",
     "text": [
      "enter first complex number: 4+5j\n",
      "enter second complex number: 3+9j\n"
     ]
    },
    {
     "name": "stdout",
     "output_type": "stream",
     "text": [
      "(7+14j)\n"
     ]
    }
   ],
   "source": [
    "x=eval(input(\"enter first complex number:\"))\n",
    "y=eval(input(\"enter second complex number:\"))\n",
    "z=x+y\n",
    "print(z)"
   ]
  },
  {
   "cell_type": "code",
   "execution_count": 5,
   "id": "5b5abf0f-34d5-4b25-867a-bd0b52059590",
   "metadata": {},
   "outputs": [
    {
     "name": "stdin",
     "output_type": "stream",
     "text": [
      "enter first complex number: 1+2j\n",
      "enter second complex number: 2+3j\n"
     ]
    },
    {
     "data": {
      "text/plain": [
       "(3+5j)"
      ]
     },
     "execution_count": 5,
     "metadata": {},
     "output_type": "execute_result"
    }
   ],
   "source": [
    "def comp(z,v):\n",
    "    return z+v\n",
    "    print(z+v)\n",
    "\n",
    "x=eval(input(\"enter first complex number:\"))\n",
    "y=eval(input(\"enter second complex number:\"))\n",
    "comp(x,y)"
   ]
  },
  {
   "cell_type": "code",
   "execution_count": 6,
   "id": "133d6eb4-5704-4d48-9026-2dace4c8efac",
   "metadata": {},
   "outputs": [
    {
     "name": "stdout",
     "output_type": "stream",
     "text": [
      "(6+8j)\n"
     ]
    }
   ],
   "source": [
    "a=complex(2,3)\n",
    "b=complex(4,5)\n",
    "y=a+b\n",
    "print(y)"
   ]
  },
  {
   "cell_type": "code",
   "execution_count": null,
   "id": "232003e3-6c98-4c08-94b7-8a5e3e33dd4c",
   "metadata": {},
   "outputs": [],
   "source": []
  }
 ],
 "metadata": {
  "kernelspec": {
   "display_name": "Python 3 (ipykernel)",
   "language": "python",
   "name": "python3"
  },
  "language_info": {
   "codemirror_mode": {
    "name": "ipython",
    "version": 3
   },
   "file_extension": ".py",
   "mimetype": "text/x-python",
   "name": "python",
   "nbconvert_exporter": "python",
   "pygments_lexer": "ipython3",
   "version": "3.11.7"
  }
 },
 "nbformat": 4,
 "nbformat_minor": 5
}
