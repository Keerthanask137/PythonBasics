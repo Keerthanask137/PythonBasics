{
 "cells": [
  {
   "cell_type": "code",
   "execution_count": 1,
   "id": "e71b53c6-004b-4024-a07b-026a4568f3f0",
   "metadata": {},
   "outputs": [
    {
     "name": "stdin",
     "output_type": "stream",
     "text": [
      "Enter the character :   KEERTHANA\n"
     ]
    },
    {
     "name": "stdout",
     "output_type": "stream",
     "text": [
      "K : 75\n",
      "E : 69\n",
      "E : 69\n",
      "R : 82\n",
      "T : 84\n",
      "H : 72\n",
      "A : 65\n",
      "N : 78\n",
      "A : 65\n"
     ]
    }
   ],
   "source": [
    "### program to print the ascii value of a character\n",
    "x= input(\"Enter the character :  \")\n",
    "\n",
    "for i in x:\n",
    "    print(i,\":\",ord(i))\n"
   ]
  },
  {
   "cell_type": "code",
   "execution_count": null,
   "id": "e8b856ad-28d0-4d8c-ac79-dcc7ca54197d",
   "metadata": {},
   "outputs": [],
   "source": []
  },
  {
   "cell_type": "code",
   "execution_count": 2,
   "id": "07d5ad93-7b6b-4d5c-94ad-a9d4e3f09722",
   "metadata": {},
   "outputs": [
    {
     "name": "stdin",
     "output_type": "stream",
     "text": [
      "Enter the character :   keerthana\n"
     ]
    },
    {
     "name": "stdout",
     "output_type": "stream",
     "text": [
      "k : 107\n",
      "e : 101\n",
      "e : 101\n",
      "r : 114\n",
      "t : 116\n",
      "h : 104\n",
      "a : 97\n",
      "n : 110\n",
      "a : 97\n"
     ]
    }
   ],
   "source": [
    "### program to print the ascii value of a character\n",
    "x= input(\"Enter the character :  \")\n",
    "\n",
    "for i in x:\n",
    "    print(i,\":\",ord(i))\n"
   ]
  },
  {
   "cell_type": "code",
   "execution_count": 3,
   "id": "a8302ab1-4ea8-4f3a-abbe-bb7136cb7953",
   "metadata": {},
   "outputs": [
    {
     "name": "stdin",
     "output_type": "stream",
     "text": [
      "Enter a number:  56\n"
     ]
    },
    {
     "name": "stdout",
     "output_type": "stream",
     "text": [
      "The ASCII value of the character corresponding to 56 is 8\n"
     ]
    }
   ],
   "source": [
    "##print ASCII value of a number\n",
    "\n",
    "\n",
    "num = int(input(\"Enter a number: \"))\n",
    "\n",
    "# Convert the number to its ASCII character and print its ASCII value\n",
    "print(f\"The ASCII value of the character corresponding to {num} is {chr(num)}\")"
   ]
  },
  {
   "cell_type": "code",
   "execution_count": null,
   "id": "82201315-7f8d-4396-a7a1-68cb2301c4b6",
   "metadata": {},
   "outputs": [],
   "source": []
  }
 ],
 "metadata": {
  "kernelspec": {
   "display_name": "Python 3 (ipykernel)",
   "language": "python",
   "name": "python3"
  },
  "language_info": {
   "codemirror_mode": {
    "name": "ipython",
    "version": 3
   },
   "file_extension": ".py",
   "mimetype": "text/x-python",
   "name": "python",
   "nbconvert_exporter": "python",
   "pygments_lexer": "ipython3",
   "version": "3.11.7"
  }
 },
 "nbformat": 4,
 "nbformat_minor": 5
}
