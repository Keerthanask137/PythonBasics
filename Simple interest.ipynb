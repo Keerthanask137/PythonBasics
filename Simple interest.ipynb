{
 "cells": [
  {
   "cell_type": "code",
   "execution_count": 2,
   "id": "f81223ca-2296-4056-abbf-c1e5fc36cd86",
   "metadata": {},
   "outputs": [
    {
     "name": "stdin",
     "output_type": "stream",
     "text": [
      "enter the principal amount  100\n",
      "enter the rate  10\n",
      "enter the time  2\n"
     ]
    },
    {
     "data": {
      "text/plain": [
       "20.0"
      ]
     },
     "execution_count": 2,
     "metadata": {},
     "output_type": "execute_result"
    }
   ],
   "source": [
    "def simple_interest(p,r,t):\n",
    "    si=(p*r*t)/100\n",
    "    return si\n",
    "\n",
    "principal=eval(input(\"enter the principal amount \"))\n",
    "rate=eval(input(\"enter the rate \"))\n",
    "time=eval(input(\"enter the time \"))\n",
    "Answer=simple_interest(principal,rate,time)\n",
    "print(f\"simple interest is           \n"
   ]
  },
  {
   "cell_type": "code",
   "execution_count": null,
   "id": "b5457182-ffdb-4d6f-b843-4921fea1e8c5",
   "metadata": {},
   "outputs": [],
   "source": []
  }
 ],
 "metadata": {
  "kernelspec": {
   "display_name": "Python 3 (ipykernel)",
   "language": "python",
   "name": "python3"
  },
  "language_info": {
   "codemirror_mode": {
    "name": "ipython",
    "version": 3
   },
   "file_extension": ".py",
   "mimetype": "text/x-python",
   "name": "python",
   "nbconvert_exporter": "python",
   "pygments_lexer": "ipython3",
   "version": "3.11.7"
  }
 },
 "nbformat": 4,
 "nbformat_minor": 5
}
