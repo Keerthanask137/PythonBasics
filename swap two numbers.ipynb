{
 "cells": [
  {
   "cell_type": "code",
   "execution_count": 15,
   "id": "6be150ba-032a-4c9a-b951-6a00df8736f5",
   "metadata": {},
   "outputs": [
    {
     "name": "stdin",
     "output_type": "stream",
     "text": [
      "enter first number :  80\n",
      "enter second number :  60\n"
     ]
    },
    {
     "name": "stdout",
     "output_type": "stream",
     "text": [
      "After swapping: First number = 60.0, Second number = 80.0\n"
     ]
    }
   ],
   "source": [
    "def swap(a,b):\n",
    "    temp=a\n",
    "    a=b\n",
    "    b=temp\n",
    "    return a,b\n",
    "###print(\" Value in a is \", a,\"value in b is\",b)\n",
    "\n",
    "num1=float(input(\"enter first number : \"))\n",
    "num2=float(input(\"enter second number : \"))\n",
    "\n",
    "num1,num2=swap(num1,num2)\n",
    "\n",
    "print(f\"After swapping: First number = {num1}, Second number = {num2}\")\n"
   ]
  },
  {
   "cell_type": "code",
   "execution_count": null,
   "id": "bdc71d74-ef08-4fb7-9237-b12cc90b5926",
   "metadata": {},
   "outputs": [],
   "source": []
  }
 ],
 "metadata": {
  "kernelspec": {
   "display_name": "Python 3 (ipykernel)",
   "language": "python",
   "name": "python3"
  },
  "language_info": {
   "codemirror_mode": {
    "name": "ipython",
    "version": 3
   },
   "file_extension": ".py",
   "mimetype": "text/x-python",
   "name": "python",
   "nbconvert_exporter": "python",
   "pygments_lexer": "ipython3",
   "version": "3.11.7"
  }
 },
 "nbformat": 4,
 "nbformat_minor": 5
}
