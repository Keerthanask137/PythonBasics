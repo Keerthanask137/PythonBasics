{
 "cells": [
  {
   "cell_type": "code",
   "execution_count": 12,
   "id": "1a30a471-6959-4823-b105-bdf1c9f395ed",
   "metadata": {},
   "outputs": [],
   "source": [
    "import sys\n"
   ]
  },
  {
   "cell_type": "code",
   "execution_count": 13,
   "id": "1d6b8f89-1e12-4d41-9f92-b0a985489853",
   "metadata": {},
   "outputs": [
    {
     "name": "stdin",
     "output_type": "stream",
     "text": [
      "enter any number 40\n"
     ]
    },
    {
     "name": "stdout",
     "output_type": "stream",
     "text": [
      "Size of entered value: 28 bytes\n",
      "<class 'int'>\n"
     ]
    },
    {
     "name": "stdin",
     "output_type": "stream",
     "text": [
      "enter any number 50\n"
     ]
    },
    {
     "name": "stdout",
     "output_type": "stream",
     "text": [
      "Size of entered value: 24 bytes\n",
      "<class 'float'>\n"
     ]
    },
    {
     "name": "stdin",
     "output_type": "stream",
     "text": [
      "enter any number chinnu\n"
     ]
    },
    {
     "name": "stdout",
     "output_type": "stream",
     "text": [
      "Size of entered value: 55 bytes\n",
      "<class 'str'>\n"
     ]
    }
   ],
   "source": [
    "def size(x):\n",
    "    print(f\"Size of entered value: {sys.getsizeof(x)} bytes\")\n",
    "    print(type(x))\n",
    "\n",
    "#x= int(input(\"Enter integer NUMBER\"))\n",
    "#y=float(input(\"Enter float number\"))\n",
    "#char=input(\"Enter any string\")\n",
    "\n",
    "x=int(input(\"enter any number\"))\n",
    "size(x)\n",
    "y=float(input(\"enter any number\"))\n",
    "size(y)\n",
    "z=(input (\"enter any number\"))\n",
    "size(z)\n",
    "\n"
   ]
  },
  {
   "cell_type": "code",
   "execution_count": 14,
   "id": "2532b3d8-9f6a-4d32-96bf-ecede6a33e35",
   "metadata": {},
   "outputs": [],
   "source": [
    "###Double precision in python doesnt have seperate syntax\n"
   ]
  },
  {
   "cell_type": "code",
   "execution_count": 15,
   "id": "f3197932-140d-464e-8e82-654152979f1c",
   "metadata": {},
   "outputs": [
    {
     "name": "stdout",
     "output_type": "stream",
     "text": [
      "Size of entered value: 24 bytes\n",
      "<class 'float'>\n"
     ]
    }
   ],
   "source": [
    "h=45.89\n",
    "size(h)"
   ]
  }
 ],
 "metadata": {
  "kernelspec": {
   "display_name": "Python 3 (ipykernel)",
   "language": "python",
   "name": "python3"
  },
  "language_info": {
   "codemirror_mode": {
    "name": "ipython",
    "version": 3
   },
   "file_extension": ".py",
   "mimetype": "text/x-python",
   "name": "python",
   "nbconvert_exporter": "python",
   "pygments_lexer": "ipython3",
   "version": "3.11.7"
  }
 },
 "nbformat": 4,
 "nbformat_minor": 5
}
