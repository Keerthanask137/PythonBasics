{
 "cells": [
  {
   "cell_type": "code",
   "execution_count": 1,
   "id": "74ac9d1b-2faa-41bb-a0a1-bea964562e82",
   "metadata": {},
   "outputs": [],
   "source": [
    "import numpy as np\n",
    "import pandas as pd\n",
    "from scipy.stats import zscore"
   ]
  },
  {
   "cell_type": "code",
   "execution_count": 2,
   "id": "2f5a5c7a-1c21-41db-85dd-98fa16072401",
   "metadata": {},
   "outputs": [
    {
     "name": "stdout",
     "output_type": "stream",
     "text": [
      "Original Data:\n",
      "    height  weight\n",
      "0     150      50\n",
      "1     160      60\n",
      "2     165      65\n",
      "3     155      55\n",
      "4     170      70\n",
      "\n",
      "Z-score Normalized Data:\n",
      "      height    weight\n",
      "0 -1.414214 -1.414214\n",
      "1  0.000000  0.000000\n",
      "2  0.707107  0.707107\n",
      "3 -0.707107 -0.707107\n",
      "4  1.414214  1.414214\n"
     ]
    }
   ],
   "source": [
    "data = {\n",
    "    'height': [150, 160, 165, 155, 170],\n",
    "    'weight': [50, 60, 65, 55, 70]\n",
    "}\n",
    "\n",
    "df = pd.DataFrame(data)\n",
    "\n",
    "# Apply z-score normalization\n",
    "df_zscore = df.apply(zscore)\n",
    "\n",
    "print(\"Original Data:\\n\", df)\n",
    "print(\"\\nZ-score Normalized Data:\\n\", df_zscore)"
   ]
  },
  {
   "cell_type": "code",
   "execution_count": null,
   "id": "4da320d5-83b6-4a8e-8dab-da573ca2cc77",
   "metadata": {},
   "outputs": [],
   "source": []
  }
 ],
 "metadata": {
  "kernelspec": {
   "display_name": "Python 3 (ipykernel)",
   "language": "python",
   "name": "python3"
  },
  "language_info": {
   "codemirror_mode": {
    "name": "ipython",
    "version": 3
   },
   "file_extension": ".py",
   "mimetype": "text/x-python",
   "name": "python",
   "nbconvert_exporter": "python",
   "pygments_lexer": "ipython3",
   "version": "3.13.4"
  }
 },
 "nbformat": 4,
 "nbformat_minor": 5
}
