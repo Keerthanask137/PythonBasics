{
 "cells": [
  {
   "cell_type": "code",
   "execution_count": 1,
   "id": "067649e2-807b-4d46-9193-a3b6b9e51971",
   "metadata": {},
   "outputs": [
    {
     "name": "stdin",
     "output_type": "stream",
     "text": [
      "enter principal  1000\n",
      "enter rate 10\n",
      "enter time 3\n"
     ]
    },
    {
     "name": "stdout",
     "output_type": "stream",
     "text": [
      " the amount is  1331.0000000000005 \n",
      " interest is  331.00000000000045\n"
     ]
    }
   ],
   "source": [
    "def compound_interest(principal, rate,time):\n",
    "    amount = principal * (1 + rate / 100) ** time\n",
    "    interest = amount - principal\n",
    "    return amount, interest\n",
    "\n",
    "x=eval(input(\"enter principal \"))\n",
    "y=eval(input(\"enter rate\"))\n",
    "z=eval(input(\"enter time\"))\n",
    "a, b=compound_interest(x,y,z)\n",
    "print(\" the amount is \",a,\"\\n\",\"compound interest is \",b)\n"
   ]
  },
  {
   "cell_type": "code",
   "execution_count": null,
   "id": "a3b71416-b8c6-46f3-95dc-5159f683a832",
   "metadata": {},
   "outputs": [],
   "source": []
  }
 ],
 "metadata": {
  "kernelspec": {
   "display_name": "Python 3 (ipykernel)",
   "language": "python",
   "name": "python3"
  },
  "language_info": {
   "codemirror_mode": {
    "name": "ipython",
    "version": 3
   },
   "file_extension": ".py",
   "mimetype": "text/x-python",
   "name": "python",
   "nbconvert_exporter": "python",
   "pygments_lexer": "ipython3",
   "version": "3.11.7"
  }
 },
 "nbformat": 4,
 "nbformat_minor": 5
}
