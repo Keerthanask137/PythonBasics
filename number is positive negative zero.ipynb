{
 "cells": [
  {
   "cell_type": "code",
   "execution_count": 3,
   "id": "d5fb5688-145d-4fba-9e88-dca7a9fef2a1",
   "metadata": {},
   "outputs": [
    {
     "name": "stdin",
     "output_type": "stream",
     "text": [
      "enter the number -3\n"
     ]
    },
    {
     "name": "stdout",
     "output_type": "stream",
     "text": [
      "entered number is negtive\n"
     ]
    }
   ],
   "source": [
    "number=eval(input(\"enter the number\"))\n",
    "if number>0:\n",
    "    print(\"entered number is positive\")\n",
    "\n",
    "elif number<0:\n",
    "    print(\"entered number is negtive\")\n",
    "\n",
    "else:\n",
    "    print (\"entered  number is zero\")\n"
   ]
  },
  {
   "cell_type": "code",
   "execution_count": 5,
   "id": "d857595f-4657-4840-a175-2a3087614d1b",
   "metadata": {},
   "outputs": [
    {
     "name": "stdin",
     "output_type": "stream",
     "text": [
      "enter the number -1\n"
     ]
    },
    {
     "name": "stdout",
     "output_type": "stream",
     "text": [
      "entered number is negtive\n"
     ]
    }
   ],
   "source": [
    "number=eval(input(\"enter the number\"))\n",
    "if number>0:\n",
    "    print(\"entered number is positive\")\n",
    "\n",
    "elif number<0:\n",
    "    print(\"entered number is negtive\")\n",
    "\n",
    "elif number==0:\n",
    "    print (\"entered  number is zero\")\n"
   ]
  },
  {
   "cell_type": "code",
   "execution_count": null,
   "id": "d86404da-99e0-48c6-a8e4-d1d4aa8134a2",
   "metadata": {},
   "outputs": [],
   "source": []
  }
 ],
 "metadata": {
  "kernelspec": {
   "display_name": "Python 3 (ipykernel)",
   "language": "python",
   "name": "python3"
  },
  "language_info": {
   "codemirror_mode": {
    "name": "ipython",
    "version": 3
   },
   "file_extension": ".py",
   "mimetype": "text/x-python",
   "name": "python",
   "nbconvert_exporter": "python",
   "pygments_lexer": "ipython3",
   "version": "3.11.7"
  }
 },
 "nbformat": 4,
 "nbformat_minor": 5
}
