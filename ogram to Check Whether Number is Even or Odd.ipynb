{
 "cells": [
  {
   "cell_type": "code",
   "execution_count": 3,
   "id": "e9a89364-71c7-4fcd-a076-36df5be796a4",
   "metadata": {},
   "outputs": [
    {
     "name": "stdin",
     "output_type": "stream",
     "text": [
      "Enter any number 2\n"
     ]
    },
    {
     "name": "stdout",
     "output_type": "stream",
     "text": [
      "entered number is even\n"
     ]
    }
   ],
   "source": [
    "x=eval(input(\"Enter any number\"))\n",
    "if x%2==0:\n",
    "    print(\"entered number is even\")\n",
    "\n",
    "else:\n",
    "    print(\"number is odd\")"
   ]
  },
  {
   "cell_type": "code",
   "execution_count": 6,
   "id": "c51c50f1-ee50-4dd5-900a-0ac0e5cbc8a7",
   "metadata": {},
   "outputs": [
    {
     "name": "stdin",
     "output_type": "stream",
     "text": [
      "enter any number 4.3\n"
     ]
    },
    {
     "name": "stdout",
     "output_type": "stream",
     "text": [
      "entered number is :odd\n"
     ]
    }
   ],
   "source": [
    "def check_even_odd(number):\n",
    "    if number%2==0:\n",
    "        return \"Even\"\n",
    "    else:\n",
    "        return\"odd\"\n",
    "\n",
    "x=eval(input(\"enter any number\"))\n",
    "b=check_even_odd(x)\n",
    "print(f\"entered number is :{b}\")"
   ]
  },
  {
   "cell_type": "code",
   "execution_count": null,
   "id": "73f60e9d-8987-458b-b23e-fb84b4dfb002",
   "metadata": {},
   "outputs": [],
   "source": []
  }
 ],
 "metadata": {
  "kernelspec": {
   "display_name": "Python 3 (ipykernel)",
   "language": "python",
   "name": "python3"
  },
  "language_info": {
   "codemirror_mode": {
    "name": "ipython",
    "version": 3
   },
   "file_extension": ".py",
   "mimetype": "text/x-python",
   "name": "python",
   "nbconvert_exporter": "python",
   "pygments_lexer": "ipython3",
   "version": "3.11.7"
  }
 },
 "nbformat": 4,
 "nbformat_minor": 5
}
