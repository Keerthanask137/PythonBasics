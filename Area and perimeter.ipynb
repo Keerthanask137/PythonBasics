{
 "cells": [
  {
   "cell_type": "code",
   "execution_count": 4,
   "id": "47a83274-7a9d-4885-b691-3a142b2cedd4",
   "metadata": {},
   "outputs": [
    {
     "name": "stdin",
     "output_type": "stream",
     "text": [
      "enter the length of a rectangle :  2.5\n",
      "enter the height of a rectangle :  5.6\n"
     ]
    },
    {
     "name": "stdout",
     "output_type": "stream",
     "text": [
      "area of a rectangle 14.0\n",
      "perimeter of rectangle 16.2\n"
     ]
    }
   ],
   "source": [
    "length=eval(input(\"enter the length of a rectangle : \"))\n",
    "height=eval(input(\"enter the height of a rectangle : \"))\n",
    "print(\"area of a rectangle\",length*height)\n",
    "perimeter=2*(length+height)\n",
    "print(\"perimeter of rectangle\",perimeter)\n",
    "            "
   ]
  },
  {
   "cell_type": "code",
   "execution_count": 6,
   "id": "0285db34-70b2-42a0-8de7-4ba595e00dca",
   "metadata": {},
   "outputs": [
    {
     "name": "stdin",
     "output_type": "stream",
     "text": [
      "enter the radius of circle :  2\n"
     ]
    },
    {
     "name": "stdout",
     "output_type": "stream",
     "text": [
      "area of the circle  12.566370614359172\n",
      "perimeter of the circle 12.566370614359172\n"
     ]
    }
   ],
   "source": [
    "import math\n",
    "radius=eval(input(\"enter the radius of circle : \"))\n",
    "area= math.pi*radius**2\n",
    "print(\"area of the circle \",area)\n",
    "perimeter=2*math.pi*radius\n",
    "print(\"perimeter of the circle\",perimeter)"
   ]
  },
  {
   "cell_type": "code",
   "execution_count": 15,
   "id": "b92b0d47-8355-432d-bd31-d4af1f839da3",
   "metadata": {},
   "outputs": [
    {
     "name": "stdin",
     "output_type": "stream",
     "text": [
      "enter the length of rectangle  2\n",
      "enter the width of rectangle  3\n"
     ]
    },
    {
     "name": "stdout",
     "output_type": "stream",
     "text": [
      "Area = 6 \n",
      "perimeter =  10\n"
     ]
    },
    {
     "name": "stdin",
     "output_type": "stream",
     "text": [
      "enter the radius of circle 2\n"
     ]
    },
    {
     "data": {
      "text/plain": [
       "(12.566370614359172, 12.566370614359172)"
      ]
     },
     "execution_count": 15,
     "metadata": {},
     "output_type": "execute_result"
    }
   ],
   "source": [
    "def rectangle(length,width):\n",
    "    area=length*width\n",
    "    perimeter=2*(length+width)\n",
    "    return area, perimeter\n",
    "\n",
    "def circle(radius):\n",
    "    area=math.pi*radius**2\n",
    "    perimeter=2*math.pi*radius\n",
    "    return area, perimeter\n",
    "\n",
    "rec_length=eval(input(\"enter the length of rectangle \" ))\n",
    "rec_width=eval(input(\"enter the width of rectangle \"))\n",
    "rec_area,rec_perimeter=rectangle(rec_length,rec_width)\n",
    "print(\"Area =\",rec_area,\"\\n\" \"perimeter = \",rec_perimeter)\n",
    "\n",
    "radius=eval(input(\"enter the radius of circle\"))\n",
    "circle(radius)\n",
    "print( \"area = \",circle_area,\"\\n\",\"perimeter = \" circle_perimeter"
   ]
  },
  {
   "cell_type": "code",
   "execution_count": null,
   "id": "f763b5c7-1bed-47a8-8b69-0be4331ba6ee",
   "metadata": {},
   "outputs": [],
   "source": []
  }
 ],
 "metadata": {
  "kernelspec": {
   "display_name": "Python 3 (ipykernel)",
   "language": "python",
   "name": "python3"
  },
  "language_info": {
   "codemirror_mode": {
    "name": "ipython",
    "version": 3
   },
   "file_extension": ".py",
   "mimetype": "text/x-python",
   "name": "python",
   "nbconvert_exporter": "python",
   "pygments_lexer": "ipython3",
   "version": "3.11.7"
  }
 },
 "nbformat": 4,
 "nbformat_minor": 5
}
