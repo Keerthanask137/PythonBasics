{
 "cells": [
  {
   "cell_type": "code",
   "execution_count": 1,
   "id": "d2493bc3-c071-4697-beeb-cbc8399d922c",
   "metadata": {},
   "outputs": [
    {
     "name": "stdin",
     "output_type": "stream",
     "text": [
      "enter the number 10\n"
     ]
    }
   ],
   "source": [
    "x=input(\"enter the number\")\n"
   ]
  },
  {
   "cell_type": "code",
   "execution_count": 3,
   "id": "2350fdad-5c43-43cc-a33a-3a30b8686bec",
   "metadata": {},
   "outputs": [
    {
     "name": "stdout",
     "output_type": "stream",
     "text": [
      "<class 'str'>\n"
     ]
    }
   ],
   "source": [
    "print(type(x))"
   ]
  },
  {
   "cell_type": "code",
   "execution_count": 4,
   "id": "45e4a8c3-4db2-4724-b984-a43bd93c3c73",
   "metadata": {},
   "outputs": [
    {
     "name": "stdout",
     "output_type": "stream",
     "text": [
      "10\n"
     ]
    }
   ],
   "source": [
    "print(x)"
   ]
  },
  {
   "cell_type": "code",
   "execution_count": 1,
   "id": "380c1e90-ae52-4707-b548-514358f86dad",
   "metadata": {},
   "outputs": [],
   "source": [
    "## Print hello world"
   ]
  },
  {
   "cell_type": "code",
   "execution_count": 2,
   "id": "43e5bb95-35d3-4658-b6cd-08a7f886d433",
   "metadata": {},
   "outputs": [
    {
     "name": "stdout",
     "output_type": "stream",
     "text": [
      "Hello world\n"
     ]
    }
   ],
   "source": [
    "print(\"Hello world\")\n"
   ]
  },
  {
   "cell_type": "code",
   "execution_count": 7,
   "id": "5bacdadb-da49-48a5-be45-5c3ca9ed0239",
   "metadata": {},
   "outputs": [
    {
     "name": "stdout",
     "output_type": "stream",
     "text": [
      "KEERTHANA S K\n"
     ]
    }
   ],
   "source": [
    "### Program to print my name\n",
    "print(\"KEERTHANA S K\")"
   ]
  },
  {
   "cell_type": "code",
   "execution_count": null,
   "id": "65b2ae19-debf-4b19-a230-e80edb50e51d",
   "metadata": {},
   "outputs": [],
   "source": [
    "###Program to print an integer enetred by the user"
   ]
  },
  {
   "cell_type": "code",
   "execution_count": 8,
   "id": "d25c0062-2432-451d-b047-0153f3302f8d",
   "metadata": {},
   "outputs": [
    {
     "name": "stdin",
     "output_type": "stream",
     "text": [
      "enter first number 10\n",
      "enter second number 20\n"
     ]
    },
    {
     "name": "stdout",
     "output_type": "stream",
     "text": [
      "sum :  30\n"
     ]
    }
   ],
   "source": [
    "x=input(\"enter first number\")\n",
    "y= input(\"enter second number\")\n",
    "\n",
    "i=int(x)\n",
    "y=int(y)\n",
    "\n",
    "print(\"sum : \",i+y)"
   ]
  },
  {
   "cell_type": "code",
   "execution_count": 10,
   "id": "a650aa70-3a95-4b7f-98a0-dd26c7f5d7f4",
   "metadata": {},
   "outputs": [
    {
     "name": "stdin",
     "output_type": "stream",
     "text": [
      "Enter a number:  5\n"
     ]
    },
    {
     "name": "stdout",
     "output_type": "stream",
     "text": [
      "Entered number is prime number\n"
     ]
    }
   ],
   "source": [
    "###Write a program to check whether the numberis prime number or not.\n",
    "\n",
    "number=int(input(\"Enter a number: \"))\n",
    "if number<=1:\n",
    "    print(\"Entered number is not a prime number\")\n",
    "else:\n",
    "    x=True\n",
    "    for i in range(2,number):\n",
    "        if number/i==0:\n",
    "           x=False\n",
    "        break\n",
    "    if x==True:\n",
    "        print(\"Entered number is prime number\")\n",
    "    else:\n",
    "        print(\"Entered number is not prime number\")\n",
    "\n",
    "\n",
    "            \n",
    "    \n",
    "\n",
    "           \n",
    "\n"
   ]
  },
  {
   "cell_type": "code",
   "execution_count": null,
   "id": "4b0fe8ca-a41d-42a1-81dc-2ba6dbeca970",
   "metadata": {},
   "outputs": [
    {
     "name": "stdin",
     "output_type": "stream",
     "text": [
      "Enter first number:  3\n"
     ]
    }
   ],
   "source": [
    "##program to chek entered numbers are floating and multiplies them\n",
    "\n",
    "\n",
    "try:\n",
    "    x=float(input(\"Enter first number: \" ))\n",
    "    y=float(input(\"Enter second number: \"))\n",
    "    z=x*y\n",
    "    print(\"Product of\",x ,\"and\" ,y, \"is\",z)\n",
    "\n",
    "except ValueError:\n",
    "    \n",
    "    print(\"One or both of the entered values are not floating numbers\")"
   ]
  },
  {
   "cell_type": "code",
   "execution_count": null,
   "id": "6c48f862-734e-453e-a443-c45c09644b6f",
   "metadata": {},
   "outputs": [],
   "source": []
  }
 ],
 "metadata": {
  "kernelspec": {
   "display_name": "Python 3 (ipykernel)",
   "language": "python",
   "name": "python3"
  },
  "language_info": {
   "codemirror_mode": {
    "name": "ipython",
    "version": 3
   },
   "file_extension": ".py",
   "mimetype": "text/x-python",
   "name": "python",
   "nbconvert_exporter": "python",
   "pygments_lexer": "ipython3",
   "version": "3.11.7"
  }
 },
 "nbformat": 4,
 "nbformat_minor": 5
}
